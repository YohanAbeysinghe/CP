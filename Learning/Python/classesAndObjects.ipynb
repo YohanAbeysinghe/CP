{
 "cells": [
  {
   "cell_type": "code",
   "execution_count": 14,
   "metadata": {},
   "outputs": [],
   "source": [
    "class Robot:\n",
    "    def __init__(self, name, color, weight):   #Constructor. Avoid the hasself of having to \n",
    "        #define attributes one by one.\n",
    "        self.name = name\n",
    "        self.color = color\n",
    "        self.weight = weight\n",
    "\n",
    "    def indtroduce_self(self):\n",
    "        print(\"My name is \" + self.name)    #self is equivalent to This. \n",
    "        #Refer to the object we are running this funciton on."
   ]
  },
  {
   "cell_type": "code",
   "execution_count": 15,
   "metadata": {},
   "outputs": [],
   "source": [
    "# r1 = Robot()\n",
    "# r1.name = \"Tom\"\n",
    "# r1.color = \"red\"\n",
    "# r1.weight = 30\n",
    "\n",
    "# r2 = Robot()\n",
    "# r2.name = \"Jerry\"\n",
    "# r2.color = 'blue'\n",
    "# r2.weight = 40\n",
    "\n",
    "r1 = Robot('tom', 'red', 30)\n",
    "r2 = Robot('Jerry', 'blue', 40)"
   ]
  },
  {
   "cell_type": "code",
   "execution_count": 16,
   "metadata": {},
   "outputs": [],
   "source": [
    "class Person:\n",
    "    def __init__(self, n, p, i): #name, personality, isSitting\n",
    "        self.name = n\n",
    "        self.personlaity = p\n",
    "        self.isSitting = i\n",
    "\n",
    "    def sit_down(self):\n",
    "        self.isSitting = True\n",
    "\n",
    "    def stand_up(self):\n",
    "        self.isSitting = False"
   ]
  },
  {
   "cell_type": "code",
   "execution_count": 17,
   "metadata": {},
   "outputs": [],
   "source": [
    "p1 = Person(\"Alice\", 'aggresive', False)\n",
    "p2 = Person('Beky', \"talkative\", True)"
   ]
  },
  {
   "cell_type": "code",
   "execution_count": 18,
   "metadata": {},
   "outputs": [],
   "source": [
    "#P1 owns the R2 second robot\n",
    "p1.robotOwned = r2\n",
    "p2.robotOwned = r1\n"
   ]
  },
  {
   "cell_type": "code",
   "execution_count": 21,
   "metadata": {},
   "outputs": [
    {
     "name": "stdout",
     "output_type": "stream",
     "text": [
      "My name is Jerry\n"
     ]
    }
   ],
   "source": [
    "p1.robotOwned.indtroduce_self()"
   ]
  },
  {
   "cell_type": "code",
   "execution_count": null,
   "metadata": {},
   "outputs": [],
   "source": []
  }
 ],
 "metadata": {
  "kernelspec": {
   "display_name": "base",
   "language": "python",
   "name": "python3"
  },
  "language_info": {
   "codemirror_mode": {
    "name": "ipython",
    "version": 3
   },
   "file_extension": ".py",
   "mimetype": "text/x-python",
   "name": "python",
   "nbconvert_exporter": "python",
   "pygments_lexer": "ipython3",
   "version": "3.10.8"
  },
  "orig_nbformat": 4
 },
 "nbformat": 4,
 "nbformat_minor": 2
}
