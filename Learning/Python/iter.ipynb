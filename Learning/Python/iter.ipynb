{
 "cells": [
  {
   "cell_type": "code",
   "execution_count": null,
   "metadata": {},
   "outputs": [],
   "source": [
    "nums = [3,5,6,7]\n",
    "\n",
    "for i in nums:\n",
    "    print(i)"
   ]
  },
  {
   "cell_type": "code",
   "execution_count": null,
   "metadata": {},
   "outputs": [],
   "source": [
    "#creating an iterator. Here it is the iterator.\n",
    "it = iter(nums)    #iter converts list into an iterator.\n",
    "print(it)   # Hence iterator does not give all the outputs. Only create list_iterator object."
   ]
  },
  {
   "cell_type": "code",
   "execution_count": null,
   "metadata": {},
   "outputs": [],
   "source": [
    "print(it.__next__())    # .__next__ is the function to take values out of iterator.\n",
    "# This does not need index values.\n",
    "print(it.__next__())    # It preserves the old value."
   ]
  },
  {
   "cell_type": "code",
   "execution_count": null,
   "metadata": {},
   "outputs": [],
   "source": [
    "print(next(it))"
   ]
  },
  {
   "cell_type": "code",
   "execution_count": null,
   "metadata": {},
   "outputs": [],
   "source": [
    "for i in nums:\n",
    "    print(i)"
   ]
  },
  {
   "cell_type": "markdown",
   "metadata": {},
   "source": [
    "The object it is created using iter function. What if we want out custom objects within classes."
   ]
  },
  {
   "cell_type": "code",
   "execution_count": null,
   "metadata": {},
   "outputs": [],
   "source": [
    "class TopeTen:\n",
    "    def __init__(self):\n",
    "        self.num = 1    #An attribute. Counter variable.\n",
    "\n",
    "    def __iter__(self):     # since this is a custom object iter() function should be defined. Why do they use __iter__?\n",
    "        return self         #Since it returns itesef. I guess it creates an iterator.\n",
    "     \n",
    "    def __next__(self):\n",
    "        if self.num <= 10:\n",
    "            val = self.num\n",
    "            self.num += 1\n",
    "            return val      #retur itself and increment value.\n",
    "        else:\n",
    "            raise StopIteration"
   ]
  },
  {
   "cell_type": "code",
   "execution_count": null,
   "metadata": {},
   "outputs": [],
   "source": [
    "values = TopeTen()"
   ]
  },
  {
   "cell_type": "code",
   "execution_count": null,
   "metadata": {},
   "outputs": [],
   "source": [
    "for i in values:\n",
    "    print(i)"
   ]
  },
  {
   "cell_type": "code",
   "execution_count": 4,
   "metadata": {},
   "outputs": [
    {
     "name": "stdout",
     "output_type": "stream",
     "text": [
      "1\n",
      "2\n",
      "3\n"
     ]
    }
   ],
   "source": [
    "class PrintNumber:\n",
    "    def __init__(self, max):\n",
    "        self.max = max\n",
    "        self.num = 0\n",
    "\n",
    "# iter() method in a class\n",
    "    def __iter__(self):\n",
    "        return self\n",
    "# next() method in a class \n",
    "    def __next__(self):\n",
    "        if(self.num >= self.max):\n",
    "            raise StopIteration\n",
    "        self.num += 1\n",
    "        return self.num\n",
    "\n",
    "print_num = PrintNumber(3)\n",
    "\n",
    "print_num_iter = iter(print_num)\n",
    "print(next(print_num_iter))  # 1\n",
    "print(next(print_num_iter))  # 2\n",
    "print(next(print_num_iter))  # 3\n",
    "\n",
    "# raises StopIteration\n",
    "#print(next(print_num_iter))"
   ]
  },
  {
   "cell_type": "code",
   "execution_count": 7,
   "metadata": {},
   "outputs": [
    {
     "name": "stdout",
     "output_type": "stream",
     "text": [
      "2\n",
      "4\n",
      "8\n"
     ]
    }
   ],
   "source": [
    "class DoubleIt:\n",
    "\n",
    "    def __init__(self):\n",
    "        self.start = 1\n",
    "\n",
    "    def __iter__(self):\n",
    "        return self\n",
    "\n",
    "    def __next__(self):\n",
    "        self.start *= 2\n",
    "        return self.start\n",
    "\n",
    "    __call__ = __next__     #this makes the object callable.\n",
    "    \n",
    "my_iter = iter(DoubleIt(), 16)   # iter(v, w): v must be callable. Hence DobleIt should be callable for this.\n",
    "\n",
    "for x in my_iter:\n",
    "    print(x)"
   ]
  }
 ],
 "metadata": {
  "kernelspec": {
   "display_name": "base",
   "language": "python",
   "name": "python3"
  },
  "language_info": {
   "codemirror_mode": {
    "name": "ipython",
    "version": 3
   },
   "file_extension": ".py",
   "mimetype": "text/x-python",
   "name": "python",
   "nbconvert_exporter": "python",
   "pygments_lexer": "ipython3",
   "version": "3.10.8"
  },
  "orig_nbformat": 4
 },
 "nbformat": 4,
 "nbformat_minor": 2
}
